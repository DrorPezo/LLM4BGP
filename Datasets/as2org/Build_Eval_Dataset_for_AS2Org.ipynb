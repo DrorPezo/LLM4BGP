{
  "nbformat": 4,
  "nbformat_minor": 0,
  "metadata": {
    "colab": {
      "provenance": []
    },
    "kernelspec": {
      "name": "python3",
      "display_name": "Python 3"
    },
    "language_info": {
      "name": "python"
    }
  },
  "cells": [
    {
      "cell_type": "code",
      "execution_count": 11,
      "metadata": {
        "id": "eGVz6GLsOhS4"
      },
      "outputs": [],
      "source": [
        "import requests\n",
        "import json\n",
        "import argparse\n",
        "import sys"
      ]
    },
    {
      "cell_type": "code",
      "source": [
        "URL = 'https://api.data.caida.org/as2org/v1'\n",
        "ASRANK_URL = 'https://api.asrank.caida.org/v2'"
      ],
      "metadata": {
        "id": "HJJqUnLPOuvm"
      },
      "execution_count": 12,
      "outputs": []
    },
    {
      "cell_type": "code",
      "source": [
        "def org(targetASN):\n",
        "  \"\"\"\n",
        "  Download the organization for a target AS\n",
        "  \"\"\"\n",
        "  # Get orgid given asn\n",
        "  url_built = f\"{URL}/asns/{targetASN}/\"\n",
        "  org = None\n",
        "  orgId = 0\n",
        "\n",
        "  try:\n",
        "    response = getJsonResponse(url_built)\n",
        "    orgId = response[\"data\"][0][\"orgId\"]\n",
        "\n",
        "  except Exception as err:\n",
        "    print(url_built)\n",
        "    print(err)\n",
        "\n",
        "  # Get org given orgid\n",
        "  url_built = f\"{URL}/orgs/{orgId}\"\n",
        "  try:\n",
        "    response = getJsonResponse(url_built)\n",
        "    org = response[\"data\"][0]\n",
        "  except Exception as err:\n",
        "    print(url_built)\n",
        "    print(err)\n",
        "  if org is not None:\n",
        "    return org[\"orgName\"]"
      ],
      "metadata": {
        "id": "9wGbgwuVO5Vv"
      },
      "execution_count": 22,
      "outputs": []
    },
    {
      "cell_type": "code",
      "source": [
        "asns = 'as_rank_dataset.json'\n",
        "with open(asns, 'r') as f:\n",
        "    asns = json.load(f)"
      ],
      "metadata": {
        "id": "gLbN_GvXjXn2"
      },
      "execution_count": 15,
      "outputs": []
    },
    {
      "cell_type": "code",
      "source": [
        "orgs = set()\n",
        "for asn in asns:\n",
        "    organization = org(asn)\n",
        "    print(organization)\n",
        "    orgs.add(organization)"
      ],
      "metadata": {
        "id": "7pQF9FaFkrft"
      },
      "execution_count": null,
      "outputs": []
    },
    {
      "cell_type": "code",
      "source": [
        "orgs = list(orgs)"
      ],
      "metadata": {
        "id": "qiGX_Pntl-Fw"
      },
      "execution_count": 26,
      "outputs": []
    },
    {
      "cell_type": "code",
      "source": [
        "orgs"
      ],
      "metadata": {
        "id": "Dly8veKqooJT"
      },
      "execution_count": null,
      "outputs": []
    },
    {
      "cell_type": "code",
      "source": [
        "# Helper method\n",
        "def getJsonResponse(URL):\n",
        "  response = requests.get(URL)\n",
        "  return response.json()"
      ],
      "metadata": {
        "id": "2NmfgEypOy66"
      },
      "execution_count": 13,
      "outputs": []
    },
    {
      "cell_type": "code",
      "source": [
        "def findASN(orgName):\n",
        "  \"\"\"\n",
        "  Find ASN of largest AS of given org name\n",
        "  \"\"\"\n",
        "  # Find org id associated with orgName\n",
        "  try:\n",
        "    url_built = f\"{URL}/orgs\"\n",
        "    orgs = getJsonResponse(url_built)\n",
        "    orgId = 0\n",
        "    for org in orgs[\"data\"]:\n",
        "      if (org[\"orgName\"] == orgName):\n",
        "        orgId = org[\"orgId\"]\n",
        "  except Exception as err:\n",
        "    print(url_built)\n",
        "    print(err)\n",
        "\n",
        "  asrank_org = getJsonResponse(f\"{ASRANK_URL}/restful/organizations/{orgId}\")\n",
        "  return asrank_org[\"data\"][\"organization\"][\"members\"][\"asns\"][\"edges\"][0][\"node\"][\"asn\"]"
      ],
      "metadata": {
        "id": "cb3KUzvXO0IB"
      },
      "execution_count": 14,
      "outputs": []
    },
    {
      "cell_type": "code",
      "source": [
        "def largestAS(targetOrgName):\n",
        "  \"\"\"\n",
        "  Download largest AS with a given organization name\n",
        "  \"\"\"\n",
        "  largestASN = 0\n",
        "  largestAS = None\n",
        "\n",
        "  try:\n",
        "    largestASN = findASN(targetOrgName)\n",
        "  except Exception as err:\n",
        "    print(err)\n",
        "  if largestASN:\n",
        "    url_built = f\"{URL}/asns/{largestASN}\"\n",
        "    try:\n",
        "      response = getJsonResponse(url_built)\n",
        "      largestAS = response[\"data\"][0]\n",
        "    except Exception as err:\n",
        "      print(url_built)\n",
        "      print(err)\n",
        "    asn = largestAS[\"asn\"]\n",
        "    return asn"
      ],
      "metadata": {
        "id": "LfUhMmfzO3bX"
      },
      "execution_count": 40,
      "outputs": []
    },
    {
      "cell_type": "code",
      "source": [
        "orgs= orgs[1:len(orgs)]"
      ],
      "metadata": {
        "id": "Yt-fNrrNpcNT"
      },
      "execution_count": 34,
      "outputs": []
    },
    {
      "cell_type": "code",
      "source": [
        "org_largest_asn = dict()\n",
        "for organization in orgs:\n",
        "    if organization:\n",
        "      print(organization)\n",
        "      largest_asn = largestAS(organization)\n",
        "      if largest_asn:\n",
        "        print(largest_asn)\n",
        "        org_largest_asn[organization] = largest_asn"
      ],
      "metadata": {
        "id": "s17P6NtEpFon"
      },
      "execution_count": null,
      "outputs": []
    },
    {
      "cell_type": "code",
      "source": [
        "# Replace 'output.json' with your desired file name\n",
        "with open('org_largest_asn.json', 'w') as f:\n",
        "    json.dump(org_largest_asn, f, indent=4)"
      ],
      "metadata": {
        "id": "P0GxlsLmwIfM"
      },
      "execution_count": 50,
      "outputs": []
    },
    {
      "cell_type": "code",
      "source": [
        "org_largest_asn"
      ],
      "metadata": {
        "id": "sz-z0Gj7w7As"
      },
      "execution_count": null,
      "outputs": []
    },
    {
      "cell_type": "code",
      "source": [
        "def NumOfASNsInOrg(orgName):\n",
        "  \"\"\"\n",
        "  Find number of ASNs in an organization\n",
        "  \"\"\"\n",
        "  # Find org id associated with orgName\n",
        "  try:\n",
        "    url_built = f\"{URL}/orgs\"\n",
        "    orgs = getJsonResponse(url_built)\n",
        "    orgId = 0\n",
        "    orgMembers = None\n",
        "    for org in orgs[\"data\"]:\n",
        "      if (org[\"orgName\"] == orgName):\n",
        "        orgId = org[\"orgId\"]\n",
        "        orgMembers = org[\"members\"]\n",
        "  except Exception as err:\n",
        "    print(url_built)\n",
        "    print(err)\n",
        "\n",
        "  return len(orgMembers)"
      ],
      "metadata": {
        "id": "3fzlch8YO7GL"
      },
      "execution_count": 9,
      "outputs": []
    },
    {
      "cell_type": "code",
      "source": [
        "orgs_dataset = dict()\n",
        "for org in org_largest_asn:\n",
        "  orgs_dataset[org] = {\n",
        "      'largest_asn': org_largest_asn[org],\n",
        "      'num_asns': NumOfASNsInOrg(org)\n",
        "  }"
      ],
      "metadata": {
        "id": "lTlfYuT9w4RK"
      },
      "execution_count": 54,
      "outputs": []
    },
    {
      "cell_type": "code",
      "source": [
        "# Replace 'output.json' with your desired file name\n",
        "with open('orgs_dataset.json', 'w') as f:\n",
        "    json.dump(orgs_dataset, f, indent=4)"
      ],
      "metadata": {
        "id": "VUNsaaDYxqCY"
      },
      "execution_count": 55,
      "outputs": []
    }
  ]
}