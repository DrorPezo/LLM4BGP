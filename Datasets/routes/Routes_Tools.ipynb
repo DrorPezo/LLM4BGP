{
  "nbformat": 4,
  "nbformat_minor": 0,
  "metadata": {
    "colab": {
      "provenance": [],
      "gpuType": "V28"
    },
    "kernelspec": {
      "name": "python3",
      "display_name": "Python 3"
    },
    "language_info": {
      "name": "python"
    },
    "accelerator": "TPU"
  },
  "cells": [
    {
      "cell_type": "markdown",
      "source": [
        "**Run on TPU - requires high RAM**"
      ],
      "metadata": {
        "id": "Z6nCPYPkl44N"
      }
    },
    {
      "cell_type": "code",
      "execution_count": null,
      "metadata": {
        "id": "cvidfBq0L8Ui"
      },
      "outputs": [],
      "source": [
        "!sudo apt-get update\n",
        "!sudo apt-get install -y curl apt-transport-https ssl-cert ca-certificates gnupg lsb-release\n",
        "!curl -1sLf 'https://dl.cloudsmith.io/public/wand/libwandio/cfg/setup/bash.deb.sh' | sudo -E bash\n",
        "!echo \"deb https://pkg.caida.org/os/$(lsb_release -si|awk '{print tolower($0)}') $(lsb_release -sc) main\" | sudo tee /etc/apt/sources.list.d/caida.list\n",
        "!sudo wget -O /etc/apt/trusted.gpg.d/caida.gpg https://pkg.caida.org/os/ubuntu/keyring.gpg\n",
        "!sudo apt update; sudo apt-get install bgpstream"
      ]
    },
    {
      "cell_type": "code",
      "source": [
        "!pip install pybgpstream\n",
        "!python3 -m pip install pybgpkit-parser\n",
        "!python3 -m pip install pybgpkit\n",
        "!pip install neo4j\n",
        "!pip install pycountry"
      ],
      "metadata": {
        "id": "YMFI4C4AM18J"
      },
      "execution_count": null,
      "outputs": []
    },
    {
      "cell_type": "code",
      "source": [
        "from google.colab import drive\n",
        "drive.mount('/content/drive')\n",
        "%cd drive/MyDrive/LLM4BGP"
      ],
      "metadata": {
        "id": "e2Nt1dqJLrqE",
        "colab": {
          "base_uri": "https://localhost:8080/"
        },
        "outputId": "03a8c935-b7e7-443e-904f-6a10642a9287"
      },
      "execution_count": 3,
      "outputs": [
        {
          "output_type": "stream",
          "name": "stdout",
          "text": [
            "Mounted at /content/drive\n",
            "/content/drive/MyDrive/LLM4BGP\n"
          ]
        }
      ]
    },
    {
      "cell_type": "code",
      "source": [
        "import pybgpstream\n",
        "import networkx as nx\n",
        "from itertools import groupby\n",
        "import time\n",
        "import json\n",
        "import random\n",
        "import pickle\n",
        "from datasets.bgpstream_preparation import *"
      ],
      "metadata": {
        "id": "HuyFm9t8Je9Y"
      },
      "execution_count": 20,
      "outputs": []
    },
    {
      "cell_type": "markdown",
      "source": [
        "**Graph Problems**"
      ],
      "metadata": {
        "id": "Y4KnaYyWOPWA"
      }
    },
    {
      "cell_type": "code",
      "source": [
        "def load_graph_from_pickle(pickle_filename):\n",
        "    \"\"\"Load a NetworkX graph from a pickle file\"\"\"\n",
        "    with open(pickle_filename, 'rb') as f:\n",
        "        graph = pickle.load(f)\n",
        "    return graph"
      ],
      "metadata": {
        "id": "-47wGP0FOw7N"
      },
      "execution_count": 5,
      "outputs": []
    },
    {
      "cell_type": "code",
      "source": [
        "# Find the shortest path between two ASes given the AS graph\n",
        "def shortest_path(as1, as2):\n",
        "    as_graph = load_graph_from_pickle('datasets/routes/as_graph.pkl')\n",
        "    path = nx.shortest_path(as_graph, str(as1), str(as2))\n",
        "    path_len = len(path) - 1\n",
        "    return path, path_len"
      ],
      "metadata": {
        "id": "kLAkQFxOsLWc"
      },
      "execution_count": 6,
      "outputs": []
    },
    {
      "cell_type": "code",
      "source": [
        "shortest_path('43381', '213331')"
      ],
      "metadata": {
        "colab": {
          "base_uri": "https://localhost:8080/"
        },
        "id": "dkyBvT4YOji3",
        "outputId": "d3e82585-07cb-4eb1-d83a-ba07cc096d77"
      },
      "execution_count": 7,
      "outputs": [
        {
          "output_type": "execute_result",
          "data": {
            "text/plain": [
              "(['43381', '19551', '3257', '2611', '213331'], 4)"
            ]
          },
          "metadata": {},
          "execution_count": 7
        }
      ]
    },
    {
      "cell_type": "code",
      "source": [
        "# Check if a certain path is the shortest path between two ASNs\n",
        "def is_shortest_path(source, target, path):\n",
        "    \"\"\"Check if a given path is the shortest path between source and target in graph G.\"\"\"\n",
        "    as_graph = load_graph_from_pickle('datasets/routes/as_graph.pkl')\n",
        "    try:\n",
        "        shortest_length = nx.shortest_path_length(as_graph, source, target)\n",
        "        return len(path) - 1 == shortest_length\n",
        "    except nx.NetworkXNoPath:\n",
        "        return False"
      ],
      "metadata": {
        "id": "ZYoNGOAkOzea"
      },
      "execution_count": 8,
      "outputs": []
    },
    {
      "cell_type": "code",
      "source": [
        "is_shortest_path('43381', '213331', ['43381', '19551', '3257', '2611', '213331'])"
      ],
      "metadata": {
        "colab": {
          "base_uri": "https://localhost:8080/"
        },
        "id": "GiKOIzpbQFBK",
        "outputId": "c4b59e12-ac3c-4559-d8ec-10726ecc2229"
      },
      "execution_count": 9,
      "outputs": [
        {
          "output_type": "execute_result",
          "data": {
            "text/plain": [
              "True"
            ]
          },
          "metadata": {},
          "execution_count": 9
        }
      ]
    },
    {
      "cell_type": "code",
      "source": [
        "# Find all paths with exact length in the AS graph\n",
        "def paths_with_exact_length(source, target, length):\n",
        "    \"\"\"\n",
        "    Returns all simple paths in an undirected graph G from source to target\n",
        "    that have exactly `length` edges.\n",
        "    \"\"\"\n",
        "    as_graph = load_graph_from_pickle('datasets/routes/as_graph.pkl')\n",
        "    all_paths = nx.all_simple_paths(as_graph, source, target, cutoff=length)\n",
        "    return [path for path in all_paths if len(path) - 1 == length]"
      ],
      "metadata": {
        "id": "eZuQB3ayO0wD"
      },
      "execution_count": 10,
      "outputs": []
    },
    {
      "cell_type": "code",
      "source": [
        "# paths_with_exact_length('43381', '213331', 4)"
      ],
      "metadata": {
        "id": "sgcktqGSQOkA"
      },
      "execution_count": 11,
      "outputs": []
    },
    {
      "cell_type": "code",
      "source": [
        "def as_degree_from_as_graph(asn):\n",
        "    '''\n",
        "    Returns the degree of an ASN from BGPStream indirected AS graph.\n",
        "    Input: asn (int | str)\n",
        "    Output: degree (int)\n",
        "    '''\n",
        "    as_graph = load_graph_from_pickle('datasets/routes/as_graph.pkl')\n",
        "    return as_graph.degree(str(asn))"
      ],
      "metadata": {
        "id": "L-MdgXFxF67u"
      },
      "execution_count": 12,
      "outputs": []
    },
    {
      "cell_type": "code",
      "source": [
        "as_degree_from_as_graph('1299')"
      ],
      "metadata": {
        "colab": {
          "base_uri": "https://localhost:8080/"
        },
        "id": "vRaGSeXHRD07",
        "outputId": "cde997eb-250e-413d-cc13-a189de93a22a"
      },
      "execution_count": 13,
      "outputs": [
        {
          "output_type": "execute_result",
          "data": {
            "text/plain": [
              "2423"
            ]
          },
          "metadata": {},
          "execution_count": 13
        }
      ]
    },
    {
      "cell_type": "markdown",
      "source": [
        "**AS Paths Problems**"
      ],
      "metadata": {
        "id": "UfTHIAjqPgpu"
      }
    },
    {
      "cell_type": "code",
      "source": [
        "def get_random_routes(x, asn):\n",
        "    with open(\"datasets/routes/routes_by_asn.json\", \"r\", encoding=\"utf-8\") as f:\n",
        "        routes_by_asn = json.load(f)   # dict\n",
        "    asn_routes = routes_by_asn[str(asn)]\n",
        "    if len(asn_routes) < x:\n",
        "        x = asn_routes\n",
        "    return random.sample(asn_routes, k=x)"
      ],
      "metadata": {
        "id": "u1kDHYn-WBcA"
      },
      "execution_count": null,
      "outputs": []
    }
  ]
}