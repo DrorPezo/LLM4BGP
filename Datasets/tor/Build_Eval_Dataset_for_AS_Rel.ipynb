{
  "nbformat": 4,
  "nbformat_minor": 0,
  "metadata": {
    "colab": {
      "provenance": []
    },
    "kernelspec": {
      "name": "python3",
      "display_name": "Python 3"
    },
    "language_info": {
      "name": "python"
    }
  },
  "cells": [
    {
      "cell_type": "code",
      "execution_count": null,
      "metadata": {
        "id": "wN4x1oJKNzUV"
      },
      "outputs": [],
      "source": [
        "!mkdir -p problink_data\n",
        "!wget -O problink_data/20210701.tar.gz https://yuchenjin.github.io/problink-as-relationships/20210701.tar.gz\n",
        "!tar -xzf problink_data/20210701.tar.gz -C problink_data\n",
        "!echo \"Extracted files:\"\n",
        "!ls -R problink_data"
      ]
    },
    {
      "cell_type": "code",
      "source": [
        "import os\n",
        "import random\n",
        "import json"
      ],
      "metadata": {
        "id": "P1N3FKX5PMpR"
      },
      "execution_count": 14,
      "outputs": []
    },
    {
      "cell_type": "code",
      "source": [
        "txt_file = 'problink_data/20210701.txt'"
      ],
      "metadata": {
        "id": "S7BR940rPpww"
      },
      "execution_count": 6,
      "outputs": []
    },
    {
      "cell_type": "code",
      "source": [
        "# Read and store lines in a list\n",
        "# <provider-as>|<customer-as>|-1\n",
        "# <peer-as>|<peer-as>|0\n",
        "# <sibling-as>|<sibling-as>|1\n",
        "if txt_file:\n",
        "    print(f\"Reading: {txt_file}\\n\")\n",
        "    with open(txt_file, \"r\") as f:\n",
        "        as_rels = [line.strip() for line in f.readlines()]\n",
        "    print(f\"Total lines: {len(as_rels)}\")\n",
        "    print(\"Sample (first 10 lines):\")\n",
        "    for line in as_rels[:10]:\n",
        "        print(line)\n",
        "else:\n",
        "    print(\"No .txt file found in the directory.\")"
      ],
      "metadata": {
        "id": "qgtt54a5PpMn"
      },
      "execution_count": null,
      "outputs": []
    },
    {
      "cell_type": "code",
      "source": [
        "as_rels = random.choices(as_rels, k=1000)"
      ],
      "metadata": {
        "id": "PlZ_lpSKSFSH"
      },
      "execution_count": 12,
      "outputs": []
    },
    {
      "cell_type": "code",
      "source": [
        "# Step 1: Parse each line into a dictionary\n",
        "dataset = []\n",
        "for rel in as_rels:\n",
        "    parts = rel.split('|')\n",
        "    if len(parts) == 3:\n",
        "        entry = {\n",
        "            'AS1': int(parts[0]),\n",
        "            'AS2': int(parts[1]),\n",
        "            'Rel': parts[2]  # keep as string, or use int(parts[2]) if numeric\n",
        "        }\n",
        "        dataset.append(entry)"
      ],
      "metadata": {
        "id": "Hf77Or-_SNPc"
      },
      "execution_count": 15,
      "outputs": []
    },
    {
      "cell_type": "code",
      "source": [
        "# Step 2: Save to JSON file\n",
        "output_filename = 'as_relationships_dataset.json'\n",
        "with open(output_filename, 'w') as f:\n",
        "    json.dump(dataset, f, indent=2)\n",
        "\n",
        "print(f\"Saved {len(dataset)} entries to {output_filename}\")"
      ],
      "metadata": {
        "colab": {
          "base_uri": "https://localhost:8080/"
        },
        "id": "fAn0NhEES1NB",
        "outputId": "2a3597ac-87da-4991-b194-5b6eaa3921e0"
      },
      "execution_count": 16,
      "outputs": [
        {
          "output_type": "stream",
          "name": "stdout",
          "text": [
            "Saved 1000 entries to as_relationships_dataset.json\n"
          ]
        }
      ]
    }
  ]
}