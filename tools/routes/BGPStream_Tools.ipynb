{
  "cells": [
    {
      "cell_type": "markdown",
      "metadata": {
        "id": "0UQTsxQO24DI"
      },
      "source": [
        "# **BGPStream**\n",
        "\n",
        "https://bgpstream.caida.org/docs/tutorials/pybgpstream\n",
        "\n",
        "\n",
        "https://www.caida.org/catalog/papers/2016_bgpstream/supplemental/\n",
        "\n",
        "\n",
        "https://github.com/CAIDA/pybgpstream/tree/master/examples\n",
        "\n",
        "https://bgpstream.caida.org/docs/api/pybgpstream/pybgpstream.html\n"
      ]
    },
    {
      "cell_type": "code",
      "execution_count": null,
      "metadata": {
        "id": "0icfVJj9256C"
      },
      "outputs": [],
      "source": [
        "!sudo apt-get update\n",
        "!sudo apt-get install -y curl apt-transport-https ssl-cert ca-certificates gnupg lsb-release\n",
        "!curl -1sLf 'https://dl.cloudsmith.io/public/wand/libwandio/cfg/setup/bash.deb.sh' | sudo -E bash\n",
        "!echo \"deb https://pkg.caida.org/os/$(lsb_release -si|awk '{print tolower($0)}') $(lsb_release -sc) main\" | sudo tee /etc/apt/sources.list.d/caida.list\n",
        "!sudo wget -O /etc/apt/trusted.gpg.d/caida.gpg https://pkg.caida.org/os/ubuntu/keyring.gpg\n",
        "!sudo apt update; sudo apt-get install bgpstream"
      ]
    },
    {
      "cell_type": "code",
      "execution_count": null,
      "metadata": {
        "id": "O_ecRQCO28IU"
      },
      "outputs": [],
      "source": [
        "!pip install pybgpstream\n",
        "!python3 -m pip install pybgpkit-parser\n",
        "!python3 -m pip install pybgpkit"
      ]
    },
    {
      "cell_type": "code",
      "execution_count": 3,
      "metadata": {
        "colab": {
          "base_uri": "https://localhost:8080/"
        },
        "id": "tW4vtkVZWejC",
        "outputId": "40779b84-45ab-4a6f-9f76-331c2f4f7b96"
      },
      "outputs": [
        {
          "output_type": "stream",
          "name": "stdout",
          "text": [
            "Mounted at /content/drive\n",
            "/content/drive/MyDrive/Thesis Code/tools/bgpstream\n"
          ]
        }
      ],
      "source": [
        "from google.colab import drive\n",
        "drive.mount('/content/drive')\n",
        "%cd drive/MyDrive/Thesis Code/tools/bgpstream"
      ]
    },
    {
      "cell_type": "code",
      "execution_count": 4,
      "metadata": {
        "id": "kS29-azY45rc"
      },
      "outputs": [],
      "source": [
        "import pybgpstream\n",
        "from collections import defaultdict\n",
        "from collections import Counter\n",
        "import networkx as nx\n",
        "from itertools import groupby\n",
        "import pickle\n",
        "from bgpstream_aux import *"
      ]
    },
    {
      "cell_type": "markdown",
      "metadata": {
        "id": "lkLLHKDkHEqu"
      },
      "source": [
        "**Simple Example - fetch and print BGPStream**"
      ]
    },
    {
      "cell_type": "code",
      "execution_count": null,
      "metadata": {
        "id": "OvGGwCGC5ZlU"
      },
      "outputs": [],
      "source": [
        "# collectors=[\"rrc00\"]\n",
        "record_type=\"ribs\"\n",
        "from_time=\"2015-08-01 07:50:00\"\n",
        "until_time=\"2015-08-01 08:00:00\"\n",
        "filter=  'ipversion 6 and peer 25152 and path \"_4554_\"'\n",
        "get_bgp_stream(None, record_type, from_time, until_time, filter=filter)"
      ]
    },
    {
      "cell_type": "code",
      "source": [
        "# create and configure the stream\n",
        "stream = pybgpstream.BGPStream(\n",
        "   from_time=\"2017-07-07 00:00:00\", until_time=\"2017-07-07 00:10:00 UTC\",\n",
        "   collectors=[\"route-views.sg\", \"route-views.eqix\"],\n",
        "   record_type=\"updates\",\n",
        "   filter=\"peer 11666 and prefix more 210.180.0.0/16\"\n",
        ")\n",
        "\n",
        "# add any additional (or dynamic) filters\n",
        "# e.g. from peer AS 11666 regarding the more-specifics of 210.180.0.0/16:\n",
        "# stream.parse_filter_string(\"peer 11666 and prefix more 210.180.0.0/16\")\n",
        "# or using the old filter interface:\n",
        "# stream.add_filter(\"peer-asn\", \"11666\")\n",
        "# stream.add_filter(\"prefix-more\", \"210.180.0.0/16\")\n",
        "\n",
        "# read elems\n",
        "for elem in stream:\n",
        "   # record fields can be accessed directly from elem\n",
        "   # e.g. elem.time\n",
        "   # or via elem.record\n",
        "   # e.g. elem.record.time\n",
        "   print(elem)\n",
        "\n",
        "# alternatively, records and elems can be read in nested loops:\n",
        "for rec in stream.records():\n",
        "   # do something with rec (e.g., choose to continue based on timestamp)\n",
        "   print(\"Received %s record at time %d from collector %s\" % (rec.type, rec.time, rec.collector))\n",
        "   for elem in rec:\n",
        "      # do something with rec and/or elem\n",
        "      print(\"  Elem Type: %s\" % elem.type)"
      ],
      "metadata": {
        "colab": {
          "base_uri": "https://localhost:8080/"
        },
        "id": "UBxMcFT6GwDj",
        "outputId": "b3c87f9c-78fe-40cf-b980-158313b6e0f8"
      },
      "execution_count": 27,
      "outputs": [
        {
          "output_type": "stream",
          "name": "stdout",
          "text": [
            "update|A|1499385779.000000|routeviews|route-views.eqix|None|None|11666|206.126.236.24|210.180.224.0/19|206.126.236.24|11666 3356 3786|3356:575 11666:1000 3356:3 3356:22 11666:1002 3356:2003 3786:0 3356:86 3356:666|None|None\n",
            "update|A|1499385779.000000|routeviews|route-views.eqix|None|None|11666|206.126.236.24|210.180.0.0/19|206.126.236.24|11666 3356 3786|3356:575 11666:1000 3356:3 3356:22 11666:1002 3356:2003 3786:0 3356:86 3356:666|None|None\n",
            "update|A|1499385788.000000|routeviews|route-views.eqix|None|None|11666|206.126.236.24|210.180.64.0/19|206.126.236.24|11666 6939 4766 4766|11666:2000 11666:2001|None|None\n",
            "update|A|1499385833.000000|routeviews|route-views.eqix|None|None|11666|206.126.236.24|210.180.96.0/19|206.126.236.24|11666 9318|11666:2008 11666:2000|None|None\n",
            "update|A|1499385851.000000|routeviews|route-views.eqix|None|None|11666|206.126.236.24|210.180.32.0/20|206.126.236.24|11666 3356 3786 4663 4663 4663 4663 4663|3356:575 3356:2011 11666:1000 3356:3 3356:22 11666:1002 3786:11 3356:86 3356:666|None|None\n",
            "update|A|1499385851.000000|routeviews|route-views.eqix|None|None|11666|206.126.236.24|210.180.48.0/20|206.126.236.24|11666 3356 3786 4663 4663 4663 4663 4663|3356:575 3356:2011 11666:1000 3356:3 3356:22 11666:1002 3786:11 3356:86 3356:666|None|None\n",
            "update|A|1499385852.000000|routeviews|route-views.eqix|None|None|11666|206.126.236.24|210.180.32.0/19|206.126.236.24|11666 9318 4663 4663 4663 4663 4663|11666:2008 11666:2000|None|None\n",
            "update|A|1499385908.000000|routeviews|route-views.eqix|None|None|11666|206.126.236.24|210.180.126.0/24|206.126.236.24|11666 6939 4766 45399|11666:2000 11666:2001|None|None\n",
            "update|A|1499386004.000000|routeviews|route-views.eqix|None|None|11666|206.126.236.24|210.180.61.0/24|206.126.236.24|11666 3356 3786 4663 4663|3356:575 3356:2011 11666:1000 3356:3 3356:22 11666:1002 3786:11 3356:86 3356:666|None|None\n",
            "update|A|1499386007.000000|routeviews|route-views.eqix|None|None|11666|206.126.236.24|210.180.128.0/18|206.126.236.24|11666 6939 4766 9706|11666:2000 11666:2001|None|None\n",
            "update|A|1499386007.000000|routeviews|route-views.eqix|None|None|11666|206.126.236.24|210.180.192.0/19|206.126.236.24|11666 6939 4766 9706|11666:2000 11666:2001|None|None\n"
          ]
        }
      ]
    },
    {
      "cell_type": "markdown",
      "source": [
        "**BGPStream Filters**"
      ],
      "metadata": {
        "id": "6gUIml_ZAoCn"
      }
    },
    {
      "cell_type": "markdown",
      "source": [
        "https://github.com/CAIDA/libbgpstream/blob/master/FILTERING\n",
        ""
      ],
      "metadata": {
        "id": "JN6ds5zMEfZz"
      }
    },
    {
      "cell_type": "code",
      "source": [
        "def build_bgpstream_filter(**filters):\n",
        "    \"\"\"\n",
        "    Build and return a BGPStream filter query string for querying BGP data.\n",
        "\n",
        "    This tool-like method is intended to be easily used by Language Models (LLMs)\n",
        "    to dynamically construct complex BGPStream filters. It accepts keyword arguments\n",
        "    where each key corresponds to a filter field (e.g., prefix, project, collector,\n",
        "    record_type, time_start, time_end, as_path, etc.) and each value defines the criteria.\n",
        "\n",
        "    The method supports:\n",
        "      - **Simple key-value pairs:** e.g., prefix=\"1.1.1.0/24\"\n",
        "      - **Multiple filter values:** If a value is given as a list or tuple (e.g., prefix=[\"1.1.1.0/24\", \"2.2.0.0/16\"]),\n",
        "        they will be joined with commas.\n",
        "      - **Negation:** To exclude specific criteria, prefix the key with \"not_\". In the filter string,\n",
        "        a negation operator ('!') is prefixed to the value. For lists, each value will be negated.\n",
        "        For example, not_origin_asn=\"65000\" yields \"origin_asn !65000\".\n",
        "\n",
        "    Examples:\n",
        "\n",
        "      # 1. Basic filter:\n",
        "      build_bgpstream_filter(prefix=\"1.1.1.0/24\", project=\"routeviews\")\n",
        "      -> \"prefix 1.1.1.0/24 project routeviews\"\n",
        "\n",
        "      # 2. Complex filter with multiple values and a time range:\n",
        "      build_bgpstream_filter(prefix=[\"1.1.1.0/24\", \"2.2.0.0/16\"],\n",
        "                             project=\"routeviews\",\n",
        "                             collector=[\"route-views.sg\", \"route-views.oregon\"],\n",
        "                             record_type=[\"announcements\", \"updates\"],\n",
        "                             time_start=\"1651276800\",\n",
        "                             time_end=\"1651363200\")\n",
        "      -> \"prefix 1.1.1.0/24,2.2.0.0/16 project routeviews collector route-views.sg,route-views.oregon record_type announcements,updates time_start 1651276800 time_end 1651363200\"\n",
        "\n",
        "      # 3. Complex filter with negations and patterns:\n",
        "      build_bgpstream_filter(prefix=\"1.1.1.0/24\",\n",
        "                             not_project=\"ris\",    # Exclude the \"ris\" project.\n",
        "                             as_path=\"^64500\",      # Filter AS paths starting with \"64500\" (could be used as a regex).\n",
        "                             not_origin_asn=[\"65000\", \"65001\"])  # Exclude these specific ASNs.\n",
        "      -> \"prefix 1.1.1.0/24 project !ris as_path ^64500 origin_asn !65000,!65001\"\n",
        "\n",
        "    Parameters:\n",
        "      **filters : Arbitrary keyword arguments representing BGPStream filter criteria.\n",
        "\n",
        "    Returns:\n",
        "      A string representing the combined BGPStream filter query.\n",
        "    \"\"\"\n",
        "    tokens = []\n",
        "    for key, value in filters.items():\n",
        "        if value is None:\n",
        "            # Skip any filter keys with a None value.\n",
        "            continue\n",
        "\n",
        "        # Check if the key indicates a negation filter.\n",
        "        negation = False\n",
        "        if key.startswith(\"not_\"):\n",
        "            negation = True\n",
        "            key = key[4:]  # Remove the 'not_' prefix to get the actual filter key.\n",
        "\n",
        "        # Process the filter value:\n",
        "        #   - If it is a list/tuple, join the items with commas,\n",
        "        #     applying the negation operator '!' to each element if needed.\n",
        "        #   - Otherwise, simply convert the value to a string and apply negation if required.\n",
        "        if isinstance(value, (list, tuple)):\n",
        "            processed_values = []\n",
        "            for item in value:\n",
        "                item_str = str(item)\n",
        "                if negation:\n",
        "                    item_str = f\"!{item_str}\"\n",
        "                processed_values.append(item_str)\n",
        "            value_str = \",\".join(processed_values)\n",
        "        else:\n",
        "            value_str = str(value)\n",
        "            if negation:\n",
        "                value_str = f\"!{value_str}\"\n",
        "\n",
        "        # Form the filter token as \"key value_str\".\n",
        "        token = f\"{key} {value_str}\"\n",
        "        tokens.append(token)\n",
        "\n",
        "    # Join all tokens with a space to form the complete filter query.\n",
        "    filter_query = \" \".join(tokens)\n",
        "    return filter_query"
      ],
      "metadata": {
        "id": "Xd7GdTPFArTL"
      },
      "execution_count": 11,
      "outputs": []
    },
    {
      "cell_type": "code",
      "source": [
        "# Example 1: Basic filter with just prefix and project.\n",
        "filter_example1 = build_bgpstream_filter(prefix=\"1.1.1.0/24\", project=\"routeviews\")\n",
        "print(\"Example 1 - Basic Filter:\")\n",
        "print(filter_example1)\n",
        "print()"
      ],
      "metadata": {
        "colab": {
          "base_uri": "https://localhost:8080/"
        },
        "id": "-wHBbgqCChW-",
        "outputId": "fe720e41-64f5-4539-bfb5-618e926e7baf"
      },
      "execution_count": 12,
      "outputs": [
        {
          "output_type": "stream",
          "name": "stdout",
          "text": [
            "Example 1 - Basic Filter:\n",
            "prefix 1.1.1.0/24 project routeviews\n",
            "\n"
          ]
        }
      ]
    },
    {
      "cell_type": "code",
      "source": [
        "get_bgp_stream(collectors, record_type, from_time, until_time, filter_example1)"
      ],
      "metadata": {
        "id": "UEPCPcUYCy8e"
      },
      "execution_count": null,
      "outputs": []
    },
    {
      "cell_type": "code",
      "source": [
        "# Example 2: Complex filter using multiple prefixes, collectors, record types, and a time window.\n",
        "filter_example2 = build_bgpstream_filter(\n",
        "    prefix=[\"1.1.1.0/24\", \"2.2.0.0/16\"],\n",
        "    project=\"routeviews\",\n",
        "    collector=[\"route-views.sg\", \"route-views.oregon\"],\n",
        "    record_type=[\"announcements\", \"updates\"],\n",
        "    time_start=\"1651276800\",\n",
        "    time_end=\"1651363200\"\n",
        ")\n",
        "print(\"Example 2 - Complex Filter with Multiple Values:\")\n",
        "print(filter_example2)\n",
        "print()"
      ],
      "metadata": {
        "id": "7Sw7qxvDCpGh"
      },
      "execution_count": null,
      "outputs": []
    },
    {
      "cell_type": "code",
      "source": [
        "get_bgp_stream(collectors, record_type, from_time, until_time, filter_example2)"
      ],
      "metadata": {
        "id": "p-N8mfdIDCGy"
      },
      "execution_count": null,
      "outputs": []
    },
    {
      "cell_type": "code",
      "source": [
        "# Example 3: Advanced filter utilizing negation and regex patterns.\n",
        "# In this filter:\n",
        "#   - We select the prefix \"1.1.1.0/24\",\n",
        "#   - Exclude data from the \"ris\" project,\n",
        "#   - Include only AS paths that start with \"64500\" (using a regex pattern),\n",
        "#   - Exclude origin ASNs \"65000\" and \"65001\".\n",
        "filter_example3 = build_bgpstream_filter(\n",
        "    prefix=\"1.1.1.0/24\",\n",
        "    not_project=\"ris\",         # Negation: exclude the 'ris' project.\n",
        "    as_path=\"^64500\",           # AS path pattern (regex) filter.\n",
        "    not_origin_asn=[\"65000\", \"65001\"]  # Negation: exclude these ASNs.\n",
        ")\n",
        "print(\"Example 3 - Complex Filter with Negations and Patterns:\")\n",
        "print(filter_example3)\n",
        "print()"
      ],
      "metadata": {
        "colab": {
          "base_uri": "https://localhost:8080/"
        },
        "id": "jzkCt9OoCr4I",
        "outputId": "dcae14d0-b071-49dc-b46a-f020a9e57460"
      },
      "execution_count": 14,
      "outputs": [
        {
          "output_type": "stream",
          "name": "stdout",
          "text": [
            "Example 3 - Complex Filter with Negations and Patterns:\n",
            "prefix 1.1.1.0/24 project !ris as_path ^64500 origin_asn !65000,!65001\n",
            "\n"
          ]
        }
      ]
    },
    {
      "cell_type": "code",
      "source": [
        "get_bgp_stream(collectors, record_type, from_time, until_time, filter_example3)"
      ],
      "metadata": {
        "id": "PecRAAnjDGAQ"
      },
      "execution_count": null,
      "outputs": []
    },
    {
      "cell_type": "markdown",
      "metadata": {
        "id": "3AOIOW0zGWUV"
      },
      "source": [
        "**AS Graph Analysis**"
      ]
    },
    {
      "cell_type": "markdown",
      "metadata": {
        "id": "6lXiYfWjMb59"
      },
      "source": [
        "**BGP Communities**"
      ]
    },
    {
      "cell_type": "code",
      "execution_count": 6,
      "metadata": {
        "id": "dBQ5E6S2SVBo"
      },
      "outputs": [],
      "source": [
        "from_time=\"2015-08-01 07:50:00\"\n",
        "until_time=\"2015-08-01 08:10:00\"\n",
        "collectors=[\"rrc06\"]\n",
        "record_type=\"ribs\"\n",
        "filter=\"peer 25152 and prefix more 185.84.166.0/23 and community *:3400\"\n",
        "communities = get_bgp_communities_info(from_time, until_time, collectors, filter=filter)"
      ]
    },
    {
      "cell_type": "code",
      "execution_count": null,
      "metadata": {
        "id": "yUraN4m5NWkM"
      },
      "outputs": [],
      "source": [
        "for ct in communities:\n",
        "    print(ct)\n",
        "    print(communities[ct])"
      ]
    },
    {
      "cell_type": "markdown",
      "source": [
        "**BGPStream Filtering Rules**"
      ],
      "metadata": {
        "id": "6Yw_O522dcp2"
      }
    },
    {
      "cell_type": "markdown",
      "source": [
        "The list of accepted terms and their meaning are:\n",
        "  1. type - restrict the stream to only records of a certain type, e.g. updates.\n",
        "  2. elemtype - restrict the stream to only elements of a certain type. Possible element types are \"ribs\", \"announcements\", \"withdrawals\", and \"peerstates\".\n",
        "  3. peer - restrict the stream to only those elements from a particular peer ASN\n",
        "  4. prefix exact - restrict the stream to only elements with a prefix that *exactly* matches the given prefix\n",
        "  5. prefix more - restrict the stream to only elements with a prefix that either matches or is more specific than the given prefix\n",
        "  6. prefix less - restrict the stream to only elements with a prefix that either matches or is less specific than the given prefix\n",
        "  7. prefix any - restrict the stream to only elements with a prefix that is either more or less specific than the given prefix (exact matches also are included).\n",
        "  8. ipversion (ipv) - restrict the stream to only elements with prefixes belonging to the given IP address family, i.e. IPv4 or IPv6.\n",
        "  9. community (comm) - restrict the stream to only elements that have a community that matches the provided string. The string is formatted as 'asn:value' but '*' may be used as a wildcard, e.g. '*:300' will match all elements with a community value of 300, regardless of the ASN.\n",
        "  10. aspath (path) - restrict the stream to only elements with an AS Path that matches the provided regular expression. The regular expression should be formatted using the standard Cisco format, i.e. '^' represents the start of the AS Path,\n",
        "  \"$\" represents the end of the path and '_' represents the link between two consecutive peers. Standard regex operators can also be used, e.g. *,?,+ and [].\n",
        "  For example, the expression '$681_1444_' will match any AS Paths that begin with AS681 followed by AS1444.\n",
        "  Placing a '!' in front of the regular expression will cause the result to be negated, i.e. the element will only be streamed if the path does NOT match the regular expression. For example, \"!$681_\" will stream all paths that do not begin with AS681.\n",
        "\n",
        "Examples\n",
        "\n",
        "1. Filter only updates from the rrc00 collector:\n",
        "'collector rrc00 and type updates'\n",
        "\n",
        "2. Filter the prefix '1.2.3.0/22' or any more specific prefixes from either the rrc06 or the route-views.jinx collectors:\n",
        "  'prefix more 1.2.3.0/22 and collector rrc06 and collector route-views.jinx'\n",
        "\n",
        "3. Filter IPv6 records that have a peer asn of 25152 and include the ASN 4554 in the AS path:\n",
        "  'ipversion 6 and peer 25152 and path \"_4554_\"'"
      ],
      "metadata": {
        "id": "S6tmX_2EdirR"
      }
    },
    {
      "cell_type": "markdown",
      "metadata": {
        "id": "3dk0Ace_AMQG"
      },
      "source": [
        "**Tests**"
      ]
    },
    {
      "cell_type": "code",
      "execution_count": 8,
      "metadata": {
        "id": "UcVVmMSchnhR"
      },
      "outputs": [],
      "source": [
        "collectors=[\"route-views.sg\"]\n",
        "record_type=\"rib\"\n",
        "from_time=\"2015-08-01 08:00:00\"\n",
        "until_time=\"2015-08-01 08:00:01\"\n",
        "\n",
        "stream = pybgpstream.BGPStream(\n",
        "    collectors=collectors,\n",
        "    record_type=record_type,\n",
        "    from_time=from_time,\n",
        "    until_time=until_time\n",
        "    )"
      ]
    },
    {
      "cell_type": "code",
      "source": [
        "for rec in stream.records():\n",
        "    for elem in rec:\n",
        "        print(\"\\t\", elem.type, elem.peer_address, elem.peer_asn, \\\n",
        "            elem.type, elem.fields)"
      ],
      "metadata": {
        "id": "1H7cEWrKXdVk"
      },
      "execution_count": null,
      "outputs": []
    },
    {
      "cell_type": "markdown",
      "source": [
        "**Next hop (IP Address) that ASN xxx Announce the prefix yyy**"
      ],
      "metadata": {
        "id": "oTU7kV_Ja5YP"
      }
    },
    {
      "cell_type": "markdown",
      "source": [
        "**ROA Research USING BGPStream - return the dates which the path was ROA valid or invalid**"
      ],
      "metadata": {
        "id": "seyp7IYbIIwQ"
      }
    },
    {
      "cell_type": "markdown",
      "source": [
        "**Traffic Engineering Detection**"
      ],
      "metadata": {
        "id": "BncLxXufbTcW"
      }
    },
    {
      "cell_type": "markdown",
      "source": [
        "**Returning all paths which are not include a specific AS or ASes (implement it with AS graph / filters)**"
      ],
      "metadata": {
        "id": "1ExnjESoIeWg"
      }
    }
  ],
  "metadata": {
    "colab": {
      "provenance": []
    },
    "kernelspec": {
      "display_name": "Python 3",
      "name": "python3"
    },
    "language_info": {
      "name": "python"
    }
  },
  "nbformat": 4,
  "nbformat_minor": 0
}